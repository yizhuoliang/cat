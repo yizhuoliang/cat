{
 "cells": [
  {
   "cell_type": "code",
   "execution_count": 1,
   "metadata": {},
   "outputs": [
    {
     "name": "stderr",
     "output_type": "stream",
     "text": [
      "/Users/coulson/opt/anaconda3/envs/catenv/lib/python3.11/site-packages/tqdm/auto.py:21: TqdmWarning: IProgress not found. Please update jupyter and ipywidgets. See https://ipywidgets.readthedocs.io/en/stable/user_install.html\n",
      "  from .autonotebook import tqdm as notebook_tqdm\n"
     ]
    },
    {
     "name": "stdout",
     "output_type": "stream",
     "text": [
      "Token embeddings shape: torch.Size([3, 9, 384])\n"
     ]
    }
   ],
   "source": [
    "import torch\n",
    "from transformers import AutoTokenizer, AutoModel\n",
    "\n",
    "sentences = [\n",
    "    \"I took my dog for a walk\",\n",
    "    \"Today is going to rain\",\n",
    "    \"I took my cat for a walk\",\n",
    "]\n",
    "\n",
    "model_ckpt = \"sentence-transformers/all-MiniLM-L6-v2\"\n",
    "tokenizer = AutoTokenizer.from_pretrained(model_ckpt)\n",
    "model = AutoModel.from_pretrained(model_ckpt)\n",
    "\n",
    "encoded_input = tokenizer(sentences, padding=True, truncation=True, return_tensors=\"pt\")\n",
    "\n",
    "with torch.no_grad():\n",
    "    model_output = model(**encoded_input)\n",
    "    \n",
    "    \n",
    "token_embeddings = model_output.last_hidden_state\n",
    "print(f\"Token embeddings shape: {token_embeddings.size()}\")"
   ]
  },
  {
   "cell_type": "code",
   "execution_count": 2,
   "metadata": {},
   "outputs": [
    {
     "name": "stdout",
     "output_type": "stream",
     "text": [
      "Sentence embeddings shape: torch.Size([3, 384])\n"
     ]
    }
   ],
   "source": [
    "import torch.nn.functional as F\n",
    "\n",
    "\n",
    "def mean_pooling(model_output, attention_mask):\n",
    "    token_embeddings = model_output.last_hidden_state\n",
    "    input_mask_expanded = (\n",
    "        attention_mask.unsqueeze(-1).expand(token_embeddings.size()).float()\n",
    "    )\n",
    "    return torch.sum(token_embeddings * input_mask_expanded, 1) / torch.clamp(\n",
    "        input_mask_expanded.sum(1), min=1e-9\n",
    "    )\n",
    "\n",
    "\n",
    "sentence_embeddings = mean_pooling(model_output, encoded_input[\"attention_mask\"])\n",
    "# Normalize the embeddings\n",
    "sentence_embeddings = F.normalize(sentence_embeddings, p=2, dim=1)\n",
    "print(f\"Sentence embeddings shape: {sentence_embeddings.size()}\")"
   ]
  },
  {
   "cell_type": "code",
   "execution_count": 4,
   "metadata": {},
   "outputs": [],
   "source": [
    "import numpy as np\n",
    "from sklearn.metrics.pairwise import cosine_similarity\n",
    "\n",
    "sentence_embeddings = sentence_embeddings.detach().numpy()\n",
    "\n",
    "scores = np.zeros((sentence_embeddings.shape[0], sentence_embeddings.shape[0]))\n",
    "\n",
    "for idx in range(sentence_embeddings.shape[0]):\n",
    "    scores[idx, :] = cosine_similarity([sentence_embeddings[idx]], sentence_embeddings)[0]"
   ]
  },
  {
   "cell_type": "code",
   "execution_count": 14,
   "metadata": {},
   "outputs": [
    {
     "name": "stderr",
     "output_type": "stream",
     "text": [
      "Found cached dataset squad (/Users/coulson/.cache/huggingface/datasets/squad/plain_text/1.0.0/d6ec3ceb99ca480ce37cdd35555d6cb2511d223b9150cce08a837ef62ffea453)\n",
      "Loading cached shuffled indices for dataset at /Users/coulson/.cache/huggingface/datasets/squad/plain_text/1.0.0/d6ec3ceb99ca480ce37cdd35555d6cb2511d223b9150cce08a837ef62ffea453/cache-f3a033b6ac26514f.arrow\n",
      "Loading cached processed dataset at /Users/coulson/.cache/huggingface/datasets/squad/plain_text/1.0.0/d6ec3ceb99ca480ce37cdd35555d6cb2511d223b9150cce08a837ef62ffea453/cache-5c5984f5d2621426.arrow\n"
     ]
    }
   ],
   "source": [
    "from datasets import load_dataset\n",
    "\n",
    "squad = load_dataset(\"squad\", split=\"validation\").shuffle(seed=42).select(range(100))\n",
    "\n",
    "\n",
    "def get_embeddings(text_list):\n",
    "    encoded_input = tokenizer(\n",
    "        text_list, padding=True, truncation=True, return_tensors=\"pt\"\n",
    "    )\n",
    "    encoded_input = {k: v for k, v in encoded_input.items()}\n",
    "    with torch.no_grad():\n",
    "        model_output = model(**encoded_input)\n",
    "    return mean_pooling(model_output, encoded_input[\"attention_mask\"])\n",
    "\n",
    "\n",
    "squad_with_embeddings = squad.map(\n",
    "    lambda x: {\"embeddings\": get_embeddings(x[\"context\"]).cpu().numpy()[0]}\n",
    ")"
   ]
  },
  {
   "cell_type": "code",
   "execution_count": 15,
   "metadata": {},
   "outputs": [
    {
     "name": "stdout",
     "output_type": "stream",
     "text": [
      "Sentence embeddings shape: torch.Size([3, 384])\n"
     ]
    }
   ],
   "source": [
    "import torch.nn.functional as F\n",
    "\n",
    "def mean_pooling(model_output, attention_mask):\n",
    "    token_embeddings = model_output.last_hidden_state\n",
    "    input_mask_expanded = (\n",
    "        attention_mask.unsqueeze(-1).expand(token_embeddings.size()).float()\n",
    "    )\n",
    "    return torch.sum(token_embeddings * input_mask_expanded, 1) / torch.clamp(\n",
    "        input_mask_expanded.sum(1), min=1e-9\n",
    "    )\n",
    "\n",
    "\n",
    "sentence_embeddings = mean_pooling(model_output, encoded_input[\"attention_mask\"])\n",
    "# Normalize the embeddings\n",
    "sentence_embeddings = F.normalize(sentence_embeddings, p=2, dim=1)\n",
    "print(f\"Sentence embeddings shape: {sentence_embeddings.size()}\")"
   ]
  },
  {
   "cell_type": "code",
   "execution_count": 16,
   "metadata": {},
   "outputs": [],
   "source": [
    "import numpy as np\n",
    "from sklearn.metrics.pairwise import cosine_similarity\n",
    "\n",
    "sentence_embeddings = sentence_embeddings.detach().numpy()\n",
    "\n",
    "scores = np.zeros((sentence_embeddings.shape[0], sentence_embeddings.shape[0]))\n",
    "\n",
    "for idx in range(sentence_embeddings.shape[0]):\n",
    "    scores[idx, :] = cosine_similarity([sentence_embeddings[idx]], sentence_embeddings)[0]"
   ]
  },
  {
   "cell_type": "code",
   "execution_count": 17,
   "metadata": {},
   "outputs": [
    {
     "name": "stderr",
     "output_type": "stream",
     "text": [
      "Found cached dataset squad (/Users/coulson/.cache/huggingface/datasets/squad/plain_text/1.0.0/d6ec3ceb99ca480ce37cdd35555d6cb2511d223b9150cce08a837ef62ffea453)\n",
      "Loading cached shuffled indices for dataset at /Users/coulson/.cache/huggingface/datasets/squad/plain_text/1.0.0/d6ec3ceb99ca480ce37cdd35555d6cb2511d223b9150cce08a837ef62ffea453/cache-f3a033b6ac26514f.arrow\n",
      "Loading cached processed dataset at /Users/coulson/.cache/huggingface/datasets/squad/plain_text/1.0.0/d6ec3ceb99ca480ce37cdd35555d6cb2511d223b9150cce08a837ef62ffea453/cache-5c5984f5d2621426.arrow\n"
     ]
    }
   ],
   "source": [
    "from datasets import load_dataset\n",
    "\n",
    "squad = load_dataset(\"squad\", split=\"validation\").shuffle(seed=42).select(range(100))\n",
    "\n",
    "\n",
    "def get_embeddings(text_list):\n",
    "    encoded_input = tokenizer(\n",
    "        text_list, padding=True, truncation=True, return_tensors=\"pt\"\n",
    "    )\n",
    "    encoded_input = {k: v for k, v in encoded_input.items()}\n",
    "    with torch.no_grad():\n",
    "        model_output = model(**encoded_input)\n",
    "    return mean_pooling(model_output, encoded_input[\"attention_mask\"])\n",
    "\n",
    "\n",
    "squad_with_embeddings = squad.map(\n",
    "    lambda x: {\"embeddings\": get_embeddings(x[\"context\"]).cpu().numpy()[0]}\n",
    ")"
   ]
  },
  {
   "cell_type": "code",
   "execution_count": 23,
   "metadata": {},
   "outputs": [
    {
     "ename": "ImportError",
     "evalue": "You must install Faiss to use FaissIndex. To do so you can run `conda install -c pytorch faiss-cpu` or `conda install -c pytorch faiss-gpu`. A community supported package is also available on pypi: `pip install faiss-cpu` or `pip install faiss-gpu`. Note that pip may not have the latest version of FAISS, and thus, some of the latest features and bug fixes may not be available.",
     "output_type": "error",
     "traceback": [
      "\u001b[0;31m---------------------------------------------------------------------------\u001b[0m",
      "\u001b[0;31mImportError\u001b[0m                               Traceback (most recent call last)",
      "Cell \u001b[0;32mIn[23], line 2\u001b[0m\n\u001b[1;32m      1\u001b[0m \u001b[39mimport\u001b[39;00m \u001b[39mfaiss\u001b[39;00m\n\u001b[0;32m----> 2\u001b[0m squad_with_embeddings\u001b[39m.\u001b[39;49madd_faiss_index(column\u001b[39m=\u001b[39;49m\u001b[39m\"\u001b[39;49m\u001b[39membeddings\u001b[39;49m\u001b[39m\"\u001b[39;49m)\n\u001b[1;32m      4\u001b[0m question \u001b[39m=\u001b[39m \u001b[39m\"\u001b[39m\u001b[39mWho headlined the halftime show for Super Bowl 50?\u001b[39m\u001b[39m\"\u001b[39m\n\u001b[1;32m      5\u001b[0m question_embedding \u001b[39m=\u001b[39m get_embeddings([question])\u001b[39m.\u001b[39mcpu()\u001b[39m.\u001b[39mdetach()\u001b[39m.\u001b[39mnumpy()\n",
      "File \u001b[0;32m~/opt/anaconda3/envs/catenv/lib/python3.11/site-packages/datasets/arrow_dataset.py:5591\u001b[0m, in \u001b[0;36mDataset.add_faiss_index\u001b[0;34m(self, column, index_name, device, string_factory, metric_type, custom_index, batch_size, train_size, faiss_verbose, dtype)\u001b[0m\n\u001b[1;32m   5537\u001b[0m \u001b[39m\u001b[39m\u001b[39m\"\"\"Add a dense index using Faiss for fast retrieval.\u001b[39;00m\n\u001b[1;32m   5538\u001b[0m \u001b[39mBy default the index is done over the vectors of the specified column.\u001b[39;00m\n\u001b[1;32m   5539\u001b[0m \u001b[39mYou can specify `device` if you want to run it on GPU (`device` must be the GPU index).\u001b[39;00m\n\u001b[0;32m   (...)\u001b[0m\n\u001b[1;32m   5588\u001b[0m \u001b[39m```\u001b[39;00m\n\u001b[1;32m   5589\u001b[0m \u001b[39m\"\"\"\u001b[39;00m\n\u001b[1;32m   5590\u001b[0m \u001b[39mwith\u001b[39;00m \u001b[39mself\u001b[39m\u001b[39m.\u001b[39mformatted_as(\u001b[39mtype\u001b[39m\u001b[39m=\u001b[39m\u001b[39m\"\u001b[39m\u001b[39mnumpy\u001b[39m\u001b[39m\"\u001b[39m, columns\u001b[39m=\u001b[39m[column], dtype\u001b[39m=\u001b[39mdtype):\n\u001b[0;32m-> 5591\u001b[0m     \u001b[39msuper\u001b[39;49m()\u001b[39m.\u001b[39;49madd_faiss_index(\n\u001b[1;32m   5592\u001b[0m         column\u001b[39m=\u001b[39;49mcolumn,\n\u001b[1;32m   5593\u001b[0m         index_name\u001b[39m=\u001b[39;49mindex_name,\n\u001b[1;32m   5594\u001b[0m         device\u001b[39m=\u001b[39;49mdevice,\n\u001b[1;32m   5595\u001b[0m         string_factory\u001b[39m=\u001b[39;49mstring_factory,\n\u001b[1;32m   5596\u001b[0m         metric_type\u001b[39m=\u001b[39;49mmetric_type,\n\u001b[1;32m   5597\u001b[0m         custom_index\u001b[39m=\u001b[39;49mcustom_index,\n\u001b[1;32m   5598\u001b[0m         batch_size\u001b[39m=\u001b[39;49mbatch_size,\n\u001b[1;32m   5599\u001b[0m         train_size\u001b[39m=\u001b[39;49mtrain_size,\n\u001b[1;32m   5600\u001b[0m         faiss_verbose\u001b[39m=\u001b[39;49mfaiss_verbose,\n\u001b[1;32m   5601\u001b[0m     )\n\u001b[1;32m   5602\u001b[0m \u001b[39mreturn\u001b[39;00m \u001b[39mself\u001b[39m\n",
      "File \u001b[0;32m~/opt/anaconda3/envs/catenv/lib/python3.11/site-packages/datasets/search.py:480\u001b[0m, in \u001b[0;36mIndexableMixin.add_faiss_index\u001b[0;34m(self, column, index_name, device, string_factory, metric_type, custom_index, batch_size, train_size, faiss_verbose)\u001b[0m\n\u001b[1;32m    459\u001b[0m \u001b[39m\u001b[39m\u001b[39m\"\"\"Add a dense index using Faiss for fast retrieval.\u001b[39;00m\n\u001b[1;32m    460\u001b[0m \u001b[39mThe index is created using the vectors of the specified column.\u001b[39;00m\n\u001b[1;32m    461\u001b[0m \u001b[39mYou can specify `device` if you want to run it on GPU (`device` must be the GPU index, see more below).\u001b[39;00m\n\u001b[0;32m   (...)\u001b[0m\n\u001b[1;32m    477\u001b[0m \u001b[39m    faiss_verbose (`bool`, defaults to False): Enable the verbosity of the Faiss index.\u001b[39;00m\n\u001b[1;32m    478\u001b[0m \u001b[39m\"\"\"\u001b[39;00m\n\u001b[1;32m    479\u001b[0m index_name \u001b[39m=\u001b[39m index_name \u001b[39mif\u001b[39;00m index_name \u001b[39mis\u001b[39;00m \u001b[39mnot\u001b[39;00m \u001b[39mNone\u001b[39;00m \u001b[39melse\u001b[39;00m column\n\u001b[0;32m--> 480\u001b[0m faiss_index \u001b[39m=\u001b[39m FaissIndex(\n\u001b[1;32m    481\u001b[0m     device\u001b[39m=\u001b[39;49mdevice, string_factory\u001b[39m=\u001b[39;49mstring_factory, metric_type\u001b[39m=\u001b[39;49mmetric_type, custom_index\u001b[39m=\u001b[39;49mcustom_index\n\u001b[1;32m    482\u001b[0m )\n\u001b[1;32m    483\u001b[0m faiss_index\u001b[39m.\u001b[39madd_vectors(\n\u001b[1;32m    484\u001b[0m     \u001b[39mself\u001b[39m, column\u001b[39m=\u001b[39mcolumn, batch_size\u001b[39m=\u001b[39mbatch_size, train_size\u001b[39m=\u001b[39mtrain_size, faiss_verbose\u001b[39m=\u001b[39mfaiss_verbose\n\u001b[1;32m    485\u001b[0m )\n\u001b[1;32m    486\u001b[0m \u001b[39mself\u001b[39m\u001b[39m.\u001b[39m_indexes[index_name] \u001b[39m=\u001b[39m faiss_index\n",
      "File \u001b[0;32m~/opt/anaconda3/envs/catenv/lib/python3.11/site-packages/datasets/search.py:247\u001b[0m, in \u001b[0;36mFaissIndex.__init__\u001b[0;34m(self, device, string_factory, metric_type, custom_index)\u001b[0m\n\u001b[1;32m    245\u001b[0m \u001b[39mself\u001b[39m\u001b[39m.\u001b[39mfaiss_index \u001b[39m=\u001b[39m custom_index\n\u001b[1;32m    246\u001b[0m \u001b[39mif\u001b[39;00m \u001b[39mnot\u001b[39;00m _has_faiss:\n\u001b[0;32m--> 247\u001b[0m     \u001b[39mraise\u001b[39;00m \u001b[39mImportError\u001b[39;00m(\n\u001b[1;32m    248\u001b[0m         \u001b[39m\"\u001b[39m\u001b[39mYou must install Faiss to use FaissIndex. To do so you can run `conda install -c pytorch faiss-cpu` or `conda install -c pytorch faiss-gpu`. \u001b[39m\u001b[39m\"\u001b[39m\n\u001b[1;32m    249\u001b[0m         \u001b[39m\"\u001b[39m\u001b[39mA community supported package is also available on pypi: `pip install faiss-cpu` or `pip install faiss-gpu`. \u001b[39m\u001b[39m\"\u001b[39m\n\u001b[1;32m    250\u001b[0m         \u001b[39m\"\u001b[39m\u001b[39mNote that pip may not have the latest version of FAISS, and thus, some of the latest features and bug fixes may not be available.\u001b[39m\u001b[39m\"\u001b[39m\n\u001b[1;32m    251\u001b[0m     )\n",
      "\u001b[0;31mImportError\u001b[0m: You must install Faiss to use FaissIndex. To do so you can run `conda install -c pytorch faiss-cpu` or `conda install -c pytorch faiss-gpu`. A community supported package is also available on pypi: `pip install faiss-cpu` or `pip install faiss-gpu`. Note that pip may not have the latest version of FAISS, and thus, some of the latest features and bug fixes may not be available."
     ]
    }
   ],
   "source": [
    "import faiss\n",
    "squad_with_embeddings.add_faiss_index(column=\"embeddings\")\n",
    "\n",
    "question = \"Who headlined the halftime show for Super Bowl 50?\"\n",
    "question_embedding = get_embeddings([question]).cpu().detach().numpy()\n",
    "\n",
    "scores, samples = squad_with_embeddings.get_nearest_examples(\n",
    "    \"embeddings\", question_embedding, k=3\n",
    ")"
   ]
  },
  {
   "cell_type": "code",
   "execution_count": null,
   "metadata": {},
   "outputs": [],
   "source": []
  }
 ],
 "metadata": {
  "kernelspec": {
   "display_name": "base",
   "language": "python",
   "name": "python3"
  },
  "language_info": {
   "codemirror_mode": {
    "name": "ipython",
    "version": 3
   },
   "file_extension": ".py",
   "mimetype": "text/x-python",
   "name": "python",
   "nbconvert_exporter": "python",
   "pygments_lexer": "ipython3",
   "version": "3.11.3"
  },
  "orig_nbformat": 4
 },
 "nbformat": 4,
 "nbformat_minor": 2
}
