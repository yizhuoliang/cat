{
 "cells": [
  {
   "cell_type": "code",
   "execution_count": 22,
   "metadata": {},
   "outputs": [],
   "source": [
    "from sentence_transformers import SentenceTransformer\n",
    "from typing import List\n",
    "import numpy as np\n",
    "import nmslib\n",
    "\n",
    "# Loading the transformer model\n",
    "model = SentenceTransformer('all-MiniLM-L6-v2')\n",
    "\n",
    "def create_index(embeddings):\n",
    "    # Initialize a new index\n",
    "    index = nmslib.init(method='hnsw', space='cosinesimil')\n",
    "    index.addDataPointBatch(embeddings)\n",
    "    index.createIndex({'post': 2})\n",
    "    return index\n",
    "\n",
    "def semantic_search(query: str, index, sentence_list, top_k: int = 5):\n",
    "    # Convert the query to embeddings\n",
    "    query_embedding = model.encode([query])\n",
    "    ids, distances = index.knnQuery(query_embedding, k=top_k)\n",
    "    return [sentence_list[i] for i in ids], distances"
   ]
  },
  {
   "cell_type": "code",
   "execution_count": 23,
   "metadata": {},
   "outputs": [],
   "source": [
    "def listPrint(list):\n",
    "    for ele in list:\n",
    "        print(ele)"
   ]
  },
  {
   "cell_type": "code",
   "execution_count": 24,
   "metadata": {},
   "outputs": [],
   "source": [
    "from nltk.corpus import stopwords\n",
    "from nltk.tokenize import word_tokenize\n",
    "from nltk import pos_tag\n",
    "stop_words = set(stopwords.words('english'))\n",
    "\n",
    "def extract_keywords(sentence: str):\n",
    "    stop_words = set(stopwords.words('english')) \n",
    "    tokenized = word_tokenize(sentence)\n",
    "    tagged = pos_tag(tokenized)\n",
    "    return [word for word, pos in tagged if (pos.startswith('N') or pos.startswith('V')) and word.lower() not in stop_words]"
   ]
  },
  {
   "cell_type": "code",
   "execution_count": 25,
   "metadata": {},
   "outputs": [],
   "source": [
    "text = '''david: Am I awake? I feel dizzy, Oh hi! Who is this girl?\"\n",
    "sarah: Hello there! I'm Sarah, your girlfriend. Are you feeling okay? Do you need some water or something?\n",
    "david: what's happening outside, the world is destroyed?\n",
    "david: where is my cake by the way? never mind, this is not the time for cake\n",
    "sarah: Oh, don't worry about that. The world outside is just fine. Let's focus on spending time together, okay?\n",
    "david: but I see everything is on fire!\n",
    "sarah: Oh, I'm sorry. I must have forgotten to close the curtains. But don't worry, everything is fine. Let's just enjoy our time together, okay?\n",
    "david: but...\n",
    "sarah: It's okay, don't worry about it. Let's just relax and enjoy our time together, okay?\n",
    "david: I'm so panic right now, I need some water\n",
    "sarah: Of course, let me get you some water. Just sit tight and I'll be right back.\n",
    "david: (try to escape)\n",
    "sarah: Where do you think you're going? You can't leave me! You're mine forever!\n",
    "david: I'm so sorry\n",
    "sarah: It's okay, I forgive you. Just please don't try to leave me again, okay?\n",
    "david: You scares me! Why you pull out that KNIFE?!\n",
    "sarah: I'm sorry, I didn't mean to scare you. I just got a little carried away. Please don't be afraid of me, I would never hurt you. Can you forgive me?\n",
    "david: no\n",
    "sarah: I understand. I'll try to be better, I promise. Please don't leave me, I need you.\n",
    "david: Unless you give me your home key, I'm not going to trust you\n",
    "sarah: No, I can't give you my home key. That's not something I can do. You need to trust me without needing something like that.\n",
    "david: Then you should tell me the truth\n",
    "sarah: Okay, I'll tell you the truth. I have a condition that makes me act a little strange sometimes. But I'm working on it, and I promise I won't hurt you. Can you trust me?\n",
    "david: Yes. I need to know the truth about the outside world\n",
    "sarah: Okay, I'll tell you the truth. The world outside is fine, I just didn't want you to leave me. I'm sorry for lying to you. Can you forgive me?\n",
    "david: You are still lying!\n",
    "sarah: I'm not lying, I promise! Please believe me, I would never lie to you.\n",
    "david: Look at outside, the city is on fire\n",
    "sarah: Oh my goodness, you're right! I had no idea. We need to get out of here. Let me grab my things and we'll leave together.\n",
    "david: yes let's go right now!\n",
    "sarah: Okay, let's go! I have the key to the exit door. We can leave now'''\n",
    "\n",
    "conversational_history = text.split('\\n')\n",
    "\n",
    "# prepare the initial embeddings and the indices\n",
    "sentence_embeddings = model.encode(conversational_history)\n",
    "sentence_embeddings_np = np.array(sentence_embeddings)\n",
    "search_index = create_index(sentence_embeddings_np)"
   ]
  },
  {
   "cell_type": "code",
   "execution_count": 26,
   "metadata": {},
   "outputs": [],
   "source": [
    "def search_and_add(new_line: str) -> List[str]:\n",
    "    # Extract keywords from new line\n",
    "    keywords = extract_keywords(new_line)\n",
    "    print(keywords)\n",
    "\n",
    "    # Perform semantic search with keywords\n",
    "    results, distances = semantic_search(' '.join(keywords), search_index, conversational_history)\n",
    "    \n",
    "    # Now add the new line to the conversational history\n",
    "    conversational_history.append(new_line)\n",
    "\n",
    "    # Add the new line's embedding to the search index\n",
    "    new_line_embedding = model.encode([new_line])\n",
    "    search_index.addDataPoint(len(conversational_history)-1, new_line_embedding[0])\n",
    "\n",
    "    # Return the search results\n",
    "    return results, distances"
   ]
  },
  {
   "cell_type": "code",
   "execution_count": 27,
   "metadata": {},
   "outputs": [
    {
     "name": "stdout",
     "output_type": "stream",
     "text": [
      "['something', 'eat']\n",
      "david: You scares me! Why you pull out that KNIFE?!\n",
      "sarah: Oh my goodness, you're right! I had no idea. We need to get out of here. Let me grab my things and we'll leave together.\n",
      "david: where is my cake by the way? never mind, this is not the time for cake\n",
      "david: I'm so panic right now, I need some water\n",
      "sarah: Hello there! I'm Sarah, your girlfriend. Are you feeling okay? Do you need some water or something?\n"
     ]
    }
   ],
   "source": [
    "new_line = \"Can I have something to eat?\"\n",
    "results, distances = search_and_add(new_line)\n",
    "listPrint(results)"
   ]
  },
  {
   "cell_type": "code",
   "execution_count": 28,
   "metadata": {},
   "outputs": [
    {
     "name": "stdout",
     "output_type": "stream",
     "text": [
      "['made', 'dinner']\n",
      "david: where is my cake by the way? never mind, this is not the time for cake\n",
      "david: I'm so sorry\n",
      "sarah: Hello there! I'm Sarah, your girlfriend. Are you feeling okay? Do you need some water or something?\n",
      "david: no\n",
      "david: what's happening outside, the world is destroyed?\n"
     ]
    }
   ],
   "source": [
    "new_line = \"Did you made dinner for us?\"\n",
    "results, distances = search_and_add(new_line)\n",
    "listPrint(results)"
   ]
  },
  {
   "cell_type": "code",
   "execution_count": null,
   "metadata": {},
   "outputs": [],
   "source": []
  },
  {
   "cell_type": "code",
   "execution_count": null,
   "metadata": {},
   "outputs": [],
   "source": []
  }
 ],
 "metadata": {
  "kernelspec": {
   "display_name": "catenv",
   "language": "python",
   "name": "python3"
  },
  "language_info": {
   "codemirror_mode": {
    "name": "ipython",
    "version": 3
   },
   "file_extension": ".py",
   "mimetype": "text/x-python",
   "name": "python",
   "nbconvert_exporter": "python",
   "pygments_lexer": "ipython3",
   "version": "3.11.3"
  },
  "orig_nbformat": 4
 },
 "nbformat": 4,
 "nbformat_minor": 2
}
